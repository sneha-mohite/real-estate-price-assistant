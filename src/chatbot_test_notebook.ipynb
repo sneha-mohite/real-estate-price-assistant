{
 "cells": [
  {
   "cell_type": "code",
   "execution_count": 1,
   "id": "bc37dcce-53ee-42ca-a0f5-0510dd587316",
   "metadata": {},
   "outputs": [],
   "source": [
    "import pandas as pd\n",
    "import joblib\n",
    "import numpy as np\n",
    "from utils import parse_query_with_llm, prepare_features, generate_explanation\n",
    "\n",
    "model_pipeline = joblib.load(\"../models/real_estate_model_xgboost_gpu_pipeline.joblib\")\n",
    "context_df = pd.read_csv(\"../data/usa-real-estate-dataset.csv\")\n",
    "context_df['price_per_sqft'] = context_df['price'] / context_df['house_size']\n",
    "\n",
    "def predict_price(user_query: str):\n",
    "    parsed = parse_query_with_llm(user_query)\n",
    "    if not parsed:\n",
    "        return \"❌ Could not parse the query.\"\n",
    "\n",
    "    features_df = prepare_features(parsed, context_df)\n",
    "    log_price = model_pipeline.predict(features_df)[0]\n",
    "    price = round(np.expm1(log_price), -3)\n",
    "\n",
    "    return f\"💰 **Predicted Price:** ${price:,.0f}\"\n",
    "\n",
    "def chat_assistant():\n",
    "    print(\"Welcome to the Real Estate Price Estimation Chat Assistant!\")\n",
    "    print(\"Ask me about a property, e.g., 'What's the price of a 3-bedroom, 2-bathroom house in Austin, Texas, 1800 sqft, built 2015?'\")\n",
    "    print(\"Type 'exit' to quit.\")\n",
    "\n",
    "    while True:\n",
    "        user_query = input(\"\\nUser: \").strip()\n",
    "        if user_query.lower() == 'exit':\n",
    "            print(\"Assistant: Goodbye!\")\n",
    "            break\n",
    "        if not user_query:\n",
    "            print(\"Assistant: Please enter a query.\")\n",
    "            continue\n",
    "\n",
    "        print(\"Assistant: Analyzing your query...\")\n",
    "        \n",
    "        parsed_data = parse_query_with_llm(user_query)\n",
    "        if not parsed_data or all(value is None for value in parsed_data.values()):\n",
    "            print(\"Assistant: I couldn't extract enough property details from your query. Please provide more specific information (e.g., bedrooms, bathrooms, size, city, state).\")\n",
    "            continue\n",
    "\n",
    "        try:\n",
    "            features_df = prepare_features(parsed_data, context_df)\n",
    "        except Exception as e:\n",
    "            print(f\"Assistant: Error preparing features for ML model: {e}\")\n",
    "            continue\n",
    "\n",
    "        try:\n",
    "            log_predicted_price = model_pipeline.predict(features_df)[0]\n",
    "            predicted_price = np.expm1(log_predicted_price)\n",
    "            predicted_price = round(predicted_price, -3) # Round to nearest thousand for cleaner output\n",
    "\n",
    "        except Exception as e:\n",
    "            print(f\"Assistant: Error during ML prediction. This might be due to incompatible feature sets or model issues: {e}\")\n",
    "            print(\"Please ensure the data preparation exactly matches the training script's feature process.\")\n",
    "            continue\n",
    "\n",
    "        explanation = generate_explanation(user_query, predicted_price, parsed_data, context_df)\n",
    "        print(f\"\\nAssistant: {explanation}\")\n",
    "        \n",
    "        # Add a note about the built year and model's limitation based on the training script\n",
    "        if 'built_year' in parsed_data and parsed_data['built_year'] not in [None, 'N/A', 'Unknown']:\n",
    "            print(f\"\\nNote: While '{parsed_data['built_year']}' was extracted, the current ML model's training script primarily uses historical sale dates (not directly 'built year') for 'age'-related features.\")"
   ]
  },
  {
   "cell_type": "code",
   "execution_count": null,
   "id": "220c897a-6e5f-4d8f-9399-fa91d0f3cabf",
   "metadata": {},
   "outputs": [
    {
     "name": "stdout",
     "output_type": "stream",
     "text": [
      "Welcome to the Real Estate Price Estimation Chat Assistant!\n",
      "Ask me about a property, e.g., 'What's the price of a 3-bedroom, 2-bathroom house in Austin, Texas, 1800 sqft, built 2015?'\n",
      "Type 'exit' to quit.\n"
     ]
    },
    {
     "name": "stdin",
     "output_type": "stream",
     "text": [
      "\n",
      "User:  What's the price of a 3-bedroom, 2-bathroom house in Austin, Texas, 1800 sqft, built 2015?\n"
     ]
    },
    {
     "name": "stdout",
     "output_type": "stream",
     "text": [
      "Assistant: Analyzing your query...\n",
      "Imputed zip code '55912.0' for city 'Austin'.\n",
      "\n",
      "Assistant: The predicted price of $457,000 for this 3-bedroom, 2-bathroom house built in 2015 is notably below Austin's median home price of $650,000. While its 1800 sqft size is slightly smaller than the city's median, this estimate at approximately $254/sqft is significantly less than Austin's average of $438/sqft. This suggests the property might be located in a more value-oriented segment of the Austin market, or its specific features lead to a lower valuation despite its relatively new construction.\n",
      "\n",
      "Note: While '2015' was extracted, the current ML model's training script primarily uses historical sale dates (not directly 'built year') for 'age'-related features.\n"
     ]
    },
    {
     "name": "stdin",
     "output_type": "stream",
     "text": [
      "\n",
      "User:  What's the price of a 4-bedroom, 3-bath home in Phoenix, Arizona with 2,200 sqft?\n"
     ]
    },
    {
     "name": "stdout",
     "output_type": "stream",
     "text": [
      "Assistant: Analyzing your query...\n",
      "Imputed zip code '85041.0' for city 'Phoenix'.\n",
      "\n",
      "Assistant: The predicted price of $408,000 for this 4-bedroom, 3-bath, 2,200 sqft home in Phoenix is influenced by its substantial size and desirable number of bedrooms and bathrooms. Although the property is significantly larger than the median home size in Phoenix, the estimate is lower than the city's median price, suggesting the model might be accounting for factors like its specific condition, age, or a neighborhood-specific price per square foot that differs from the overall city average.\n"
     ]
    },
    {
     "name": "stdin",
     "output_type": "stream",
     "text": [
      "\n",
      "User:  How much would a 2-bedroom condo in Miami, FL cost if it's 950 sqft?\n"
     ]
    },
    {
     "name": "stdout",
     "output_type": "stream",
     "text": [
      "Assistant: Analyzing your query...\n",
      "Imputed zip code '33139.0' for city 'Miami'.\n",
      "\n",
      "Assistant: The predicted price of $245,000 for this 2-bedroom, 950 sqft condo in Miami is significantly lower than the average market value for the area. This estimate may be influenced by the unit's smaller size compared to the median, and potentially assumes an older building or less premium location within Miami, given the lack of detail on factors like bathrooms or built year. Additionally, condo pricing can vary greatly from general market averages which may include other property types.\n"
     ]
    }
   ],
   "source": [
    "if __name__ == \"__main__\":\n",
    "    chat_assistant()"
   ]
  }
 ],
 "metadata": {
  "kernelspec": {
   "display_name": "Python 3 (ipykernel)",
   "language": "python",
   "name": "python3"
  },
  "language_info": {
   "codemirror_mode": {
    "name": "ipython",
    "version": 3
   },
   "file_extension": ".py",
   "mimetype": "text/x-python",
   "name": "python",
   "nbconvert_exporter": "python",
   "pygments_lexer": "ipython3",
   "version": "3.12.7"
  }
 },
 "nbformat": 4,
 "nbformat_minor": 5
}
